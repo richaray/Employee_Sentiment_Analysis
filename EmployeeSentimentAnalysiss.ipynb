{
 "cells": [
  {
   "cell_type": "markdown",
   "metadata": {
    "id": "xTzONQ9WkkIJ"
   },
   "source": [
    "# Introduction\n",
    "This project performs sentiment analysis on employee reviews using a test dataset. The goal is to understand the distribution of sentiments (positive/negative/neutral) and identify patterns in employee opinions.\n",
    "\n"
   ]
  },
  {
   "cell_type": "markdown",
   "metadata": {
    "id": "xWMwaBDSk2WR"
   },
   "source": [
    "# Importing Libraries"
   ]
  },
  {
   "cell_type": "code",
   "execution_count": null,
   "metadata": {
    "colab": {
     "base_uri": "https://localhost:8080/"
    },
    "id": "TWpjTj0KebNL",
    "outputId": "d71915da-52fd-4113-de40-bc6a668c97de"
   },
   "outputs": [],
   "source": [
    "import pandas as pd\n",
    "!pip install pandas openpyxl\n",
    "!pip install transformers torch\n"
   ]
  },
  {
   "cell_type": "code",
   "execution_count": null,
   "metadata": {
    "colab": {
     "base_uri": "https://localhost:8080/"
    },
    "id": "wNBPNYARfQpD",
    "outputId": "ff6487ff-37f1-4123-ed2c-57d31f6d99ce"
   },
   "outputs": [],
   "source": [
    "from google.colab import drive\n",
    "\n",
    "drive.mount('/content/drive')"
   ]
  },
  {
   "cell_type": "markdown",
   "metadata": {
    "id": "WNmhYv_Rlskz"
   },
   "source": [
    "# Loading the Dataset"
   ]
  },
  {
   "cell_type": "code",
   "execution_count": null,
   "metadata": {
    "colab": {
     "base_uri": "https://localhost:8080/",
     "height": 423
    },
    "id": "dZt3UlNzfVSa",
    "outputId": "c12ff650-879d-44fd-9e59-c9d8de06917b"
   },
   "outputs": [],
   "source": [
    "path = \"/content/drive/MyDrive/test.xlsx\"\n",
    "df = pd.read_excel(path)\n",
    "df"
   ]
  },
  {
   "cell_type": "markdown",
   "metadata": {
    "id": "JohFy7Syly9S"
   },
   "source": [
    "The dataset contains multiple columns including sentiment, text, and potentially other metadata related to the reviews."
   ]
  },
  {
   "cell_type": "markdown",
   "metadata": {
    "id": "CUShyEql_NjN"
   },
   "source": [
    "# Sentiment Analysis and Classification"
   ]
  },
  {
   "cell_type": "code",
   "execution_count": null,
   "metadata": {
    "id": "hlw-WkFqhKhS"
   },
   "outputs": [],
   "source": [
    "from transformers import pipeline, AutoTokenizer, AutoModelForSequenceClassification, TextClassificationPipeline\n",
    "import torch"
   ]
  },
  {
   "cell_type": "code",
   "execution_count": null,
   "metadata": {
    "id": "h_cgHdL3hPkK"
   },
   "outputs": [],
   "source": [
    "# Handle missing values\n",
    "df['Subject'] = df['Subject'].fillna('').astype(str)\n",
    "df['body'] = df['body'].fillna('').astype(str)\n",
    "\n",
    "# Create a message column for analysis\n",
    "df['message'] = df['Subject'] + \" \" + df['body']"
   ]
  },
  {
   "cell_type": "code",
   "execution_count": null,
   "metadata": {
    "colab": {
     "base_uri": "https://localhost:8080/",
     "height": 284,
     "referenced_widgets": [
      "fbf9edb354bc444fa8aae91933aa5e4c",
      "3be89118c5674531a3d4aff166ac2c23",
      "be054abf9c1b43adb330369ce6d41fef",
      "de46da6a82f748e5a807537735987e54",
      "b8004c79599646dea47046a48175be15",
      "e307ca7d93a74756b6eefaba28403e16",
      "be519113509e4ca28132d620393925fd",
      "8cdddd4041c7462ea991d6c47067a082",
      "1c6d8a9f51714b93b8379287a03bc865",
      "eb8cf427a9224216a664dca110a18e85",
      "afd2bdea45b24622a78051afe83db890",
      "00858e4ff1a643ab92820ad8af7e3353",
      "577b0a806dc8458a920f5588e3df3fd1",
      "7706885fd8104b57982141545049f837",
      "5bf7f383b816449fb66ec32e6f723c14",
      "db09eab77aab451aa4763dece3a4209d",
      "8e5c67edb660414080f26e63346f74f8",
      "91ffaa1cdc58475a8954a7f35afe2f8b",
      "eb6259fd721b4c699daa251e3a0ff85e",
      "9eec48c4d61a4acfbcc81e1319b9f88f",
      "7b8c5755dfbf42c2a8211dd8ef672ceb",
      "886cb318b9864bebad23e77ba87fd1cc",
      "e6eb741f8b584f82b736a9e94cfa3cd9",
      "cc857ab5dacc491bbd2172ad3197d0a8",
      "3893694bd50e49b08b2aab5012fe6d04",
      "bc3704479936419e8418a4c51b369993",
      "e19e0ea0b9224fe3aa1e4e2a0df17be7",
      "448cc5c0260e48dcaeb3bd8502100073",
      "1482d6aa4f1a4d68854805a5c7c0d0aa",
      "49a08b368642497e9dabddac8aff10f7",
      "8e613b1518774c06bbf7389ffc1f0b5b",
      "f30b31ff62154fe4981f0b3d3aaefab5",
      "643239764a3646d0a0e8d690710fdace",
      "314f7551d44c45f79501510349fad87a",
      "ec3f6f8a8be44db4a1649c0b40c43c4a",
      "00ffaf5744a74137a9397f001a4ebb98",
      "f2df7c678f2640a4b30682060447a3ec",
      "a450adab17f141939f31c438533aa2d0",
      "50bbf769be1e4118a93fb8e1f6ce1f7d",
      "7273df40170b4a99975cbb0997f63a5f",
      "06840129b6184de18bdbaaa3671801d4",
      "852926cd6f0344458e81cf20bc79003e",
      "2346e88dd5ea4b61b85512f133ce5c2e",
      "d9ea2b095a34422d8ae112048b83efd9",
      "bdd9c58560c14b1e8a2a346e98e03682",
      "b4f27bd5aa4f4a4c987e68ce643b791c",
      "6813e13635fc4239bab8bc984ebd5959",
      "5881346411f54a11af5a6340a0166ea9",
      "5a38076686c54854a7d9ad627e87846d",
      "c208a72ad3034686a0349ad7a09e31bb",
      "5188ee83d9864f8ca4bebe1914348045",
      "298936c261f64fe8a0627eddc7011ed2",
      "cfd73c46ff30437e82ee695b020170c9",
      "eacfa9e2d801419e9742ead6132665c5",
      "3be73c75575d494b9e5bbdd9fa12018e"
     ]
    },
    "id": "Q8jw2Lqchaeo",
    "outputId": "fdf6828a-58dc-4bb9-848f-6bd075777186"
   },
   "outputs": [],
   "source": [
    "from transformers import AutoTokenizer, AutoModelForSequenceClassification\n",
    "from transformers import pipeline\n",
    "\n",
    "model_name = \"cardiffnlp/twitter-roberta-base-sentiment\"\n",
    "tokenizer = AutoTokenizer.from_pretrained(model_name)\n",
    "model = AutoModelForSequenceClassification.from_pretrained(model_name)\n",
    "\n",
    "classifier = pipeline(\"sentiment-analysis\", model=model, tokenizer=tokenizer)\n",
    "\n",
    "def map_sentiment_label(text):\n",
    "    result = classifier(text[:512])[0]\n",
    "    label_map = {\n",
    "        \"LABEL_0\": \"Negative\",\n",
    "        \"LABEL_1\": \"Neutral\",\n",
    "        \"LABEL_2\": \"Positive\"\n",
    "    }\n",
    "    return label_map[result['label']]\n"
   ]
  },
  {
   "cell_type": "code",
   "execution_count": null,
   "metadata": {
    "id": "SsEcU8Sfjj36"
   },
   "outputs": [],
   "source": [
    "df['sentiment'] = df['message'].apply(map_sentiment_label)\n"
   ]
  },
  {
   "cell_type": "code",
   "execution_count": null,
   "metadata": {
    "colab": {
     "base_uri": "https://localhost:8080/",
     "height": 324
    },
    "id": "b0oWMLRkj2us",
    "outputId": "e1660702-df3e-4c2a-8968-0a606bd02d25"
   },
   "outputs": [],
   "source": [
    "df.head()"
   ]
  },
  {
   "cell_type": "markdown",
   "metadata": {
    "id": "9m01_nEzmKnb"
   },
   "source": [
    "A new column 'sentiment' is added which classifies sentiments into positive, neutral and negative"
   ]
  },
  {
   "cell_type": "markdown",
   "metadata": {
    "id": "brpDgdK0qHEN"
   },
   "source": [
    "# Exploratory Data Analysis"
   ]
  },
  {
   "cell_type": "code",
   "execution_count": null,
   "metadata": {
    "id": "jNAmdR6CqwJg"
   },
   "outputs": [],
   "source": [
    "import matplotlib.pyplot as plt\n",
    "import seaborn as sns\n"
   ]
  },
  {
   "cell_type": "code",
   "execution_count": null,
   "metadata": {
    "colab": {
     "base_uri": "https://localhost:8080/",
     "height": 209
    },
    "id": "1MowKfUZhpZp",
    "outputId": "3509df32-c187-4545-8532-606d615a6ced"
   },
   "outputs": [],
   "source": [
    "df.dtypes"
   ]
  },
  {
   "cell_type": "code",
   "execution_count": null,
   "metadata": {
    "colab": {
     "base_uri": "https://localhost:8080/",
     "height": 175
    },
    "id": "doOsgasToHp7",
    "outputId": "a8f6ff06-733b-4a55-8b96-265293d136bd"
   },
   "outputs": [],
   "source": [
    "df.describe()"
   ]
  },
  {
   "cell_type": "code",
   "execution_count": null,
   "metadata": {
    "colab": {
     "base_uri": "https://localhost:8080/",
     "height": 272
    },
    "id": "7cr6znqkpqtx",
    "outputId": "b54296f7-ff44-4be7-adcf-5245e3ca727c"
   },
   "outputs": [],
   "source": [
    "df.isnull().sum()"
   ]
  },
  {
   "cell_type": "markdown",
   "metadata": {
    "id": "ScpDrP5Amj_Y"
   },
   "source": [
    "There are no missing values in the core columns. The sentiment column is categorical, while text contains the review content.\n",
    "\n"
   ]
  },
  {
   "cell_type": "code",
   "execution_count": null,
   "metadata": {
    "colab": {
     "base_uri": "https://localhost:8080/",
     "height": 497
    },
    "id": "V0EKmi5iqTjE",
    "outputId": "90caaa2d-9846-4eea-c965-4457a7ed8296"
   },
   "outputs": [],
   "source": [
    "# Count sentiment labels\n",
    "sentiment_counts = df['sentiment'].value_counts()\n",
    "print(sentiment_counts)\n",
    "\n",
    "# Bar chart\n",
    "plt.figure(figsize=(6,4))\n",
    "sns.countplot(x='sentiment', data=df, hue='sentiment',order=sentiment_counts.index, palette=\"Set2\", legend=False)\n",
    "plt.title(\"Distribution of Sentiment Labels\")\n",
    "plt.xlabel(\"Sentiment\")\n",
    "plt.ylabel(\"Number of Messages\")\n",
    "plt.show()\n"
   ]
  },
  {
   "cell_type": "markdown",
   "metadata": {
    "id": "06ne7k-3mtI8"
   },
   "source": [
    "It is observed that more number of messages are neutral. Negative messages are least in number. Number of positive messages is between neutral and negative"
   ]
  },
  {
   "cell_type": "code",
   "execution_count": null,
   "metadata": {
    "colab": {
     "base_uri": "https://localhost:8080/",
     "height": 607
    },
    "id": "LD4xZHC6t8Ku",
    "outputId": "e84c58c8-84b6-4e87-8804-87dd5feed455"
   },
   "outputs": [],
   "source": [
    "# Reset index if you already set date as index\n",
    "df.reset_index(inplace=True)\n",
    "\n",
    "# Recreate daily sentiment counts\n",
    "df['date_only'] = df['date'].dt.date\n",
    "daily_sentiment = df.groupby(['date_only', 'sentiment']).size().unstack(fill_value=0)\n",
    "\n",
    "# Apply rolling average\n",
    "rolling_sentiment = daily_sentiment.rolling(window=30).mean()\n",
    "\n",
    "# Plot\n",
    "rolling_sentiment.plot(figsize=(12, 6), linewidth=2)\n",
    "plt.title(\"Sentiment Trend (30-Day Rolling Average)\")\n",
    "plt.xlabel(\"Date\")\n",
    "plt.ylabel(\"Number of Messages\")\n",
    "plt.grid(True)\n",
    "plt.tight_layout()\n",
    "plt.show()\n"
   ]
  },
  {
   "cell_type": "markdown",
   "metadata": {
    "id": "9T7ZlMBFukgz"
   },
   "source": [
    "# **Observations :**\n",
    "#1. Neutral Sentiment Dominates\n",
    "The orange line (Neutral) consistently stays above both Positive and Negative sentiments across the entire period.\n",
    "\n",
    "This suggests that most employee messages are neutral — likely informational, procedural, or emotionally neutral in tone.\n",
    "\n",
    "#2. Positive Sentiment is Stable, Slightly Increasing\n",
    "The green line (Positive) shows a gradual upward trend, especially during:\n",
    "\n",
    "Early 2011, and again toward late 2011.\n",
    "\n",
    "This could imply improving morale or satisfaction over time.\n",
    "\n",
    "#3. Negative Sentiment is Low and Stable\n",
    "The blue line (Negative) remains consistently low, with only minor fluctuations.\n",
    "\n",
    "This indicates that there aren't strong or frequent complaints, suggesting either:\n",
    "\n",
    "Good employee engagement, or\n",
    "\n",
    "Employees may be reluctant to express dissatisfaction."
   ]
  },
  {
   "cell_type": "markdown",
   "metadata": {
    "id": "0iNpfUrmvYry"
   },
   "source": [
    "# *Message by Senders (Top Sender)*"
   ]
  },
  {
   "cell_type": "code",
   "execution_count": null,
   "metadata": {
    "colab": {
     "base_uri": "https://localhost:8080/",
     "height": 487
    },
    "id": "-E2JvK2buO_1",
    "outputId": "e154e350-3cff-4bcb-d629-7b389dc8163b"
   },
   "outputs": [],
   "source": [
    "top_senders = df['from'].value_counts().head(10)\n",
    "plt.figure(figsize=(10,5))\n",
    "sns.barplot(x=top_senders.values, hue=top_senders.values,y=top_senders.index, palette='Blues_d',legend=False)\n",
    "plt.title(\"Top 10 Message Senders\")\n",
    "plt.xlabel(\"Number of Messages\")\n",
    "plt.ylabel(\"Sender\")\n",
    "plt.show()\n"
   ]
  },
  {
   "cell_type": "markdown",
   "metadata": {
    "id": "yraU3Cu7vyy0"
   },
   "source": [
    "***Observation:*** lydia.delgado@enron.com is the top sender with over 250 messages"
   ]
  },
  {
   "cell_type": "markdown",
   "metadata": {
    "id": "Zt279wcQvg67"
   },
   "source": [
    "# *Sentiment By Sender*"
   ]
  },
  {
   "cell_type": "code",
   "execution_count": null,
   "metadata": {
    "colab": {
     "base_uri": "https://localhost:8080/",
     "height": 607
    },
    "id": "QE17_R9Zu6Dl",
    "outputId": "2da188d3-6085-4ad1-aed2-d57dc657570c"
   },
   "outputs": [],
   "source": [
    "sender_sentiment = df.groupby(['from', 'sentiment']).size().unstack(fill_value=0)\n",
    "top_sender_sentiment = sender_sentiment.loc[top_senders.index]\n",
    "\n",
    "top_sender_sentiment.plot(kind='bar', stacked=True, figsize=(12,6), colormap='Pastel1')\n",
    "plt.title(\"Sentiment Distribution by Top Senders\")\n",
    "plt.xlabel(\"Sender\")\n",
    "plt.ylabel(\"Message Count\")\n",
    "plt.xticks(rotation=45)\n",
    "plt.tight_layout()\n",
    "plt.show()\n"
   ]
  },
  {
   "cell_type": "markdown",
   "metadata": {
    "id": "h2LSii7cv6dA"
   },
   "source": [
    "**Observation** : It can be seen from the above plot that sentiment of messages sent is mostly neutral"
   ]
  },
  {
   "cell_type": "markdown",
   "metadata": {
    "id": "B7rnMbOOvpMK"
   },
   "source": [
    "# *Message Length & Sentiment*"
   ]
  },
  {
   "cell_type": "code",
   "execution_count": null,
   "metadata": {
    "colab": {
     "base_uri": "https://localhost:8080/",
     "height": 487
    },
    "id": "k7wiUZzEvJ6J",
    "outputId": "a2c117aa-ee47-4963-b1ab-5b986f0c0b15"
   },
   "outputs": [],
   "source": [
    "# Create a new column for message length\n",
    "df['message_length'] = df['message'].apply(len)\n",
    "\n",
    "plt.figure(figsize=(8,5))\n",
    "sns.boxplot(x='sentiment', hue='sentiment',legend=False,y='message_length', data=df, palette='Set3')\n",
    "plt.title(\"Message Length by Sentiment\")\n",
    "plt.xlabel(\"Sentiment\")\n",
    "plt.ylabel(\"Message Length\")\n",
    "plt.show()\n"
   ]
  },
  {
   "cell_type": "markdown",
   "metadata": {
    "id": "4bpaX1FzwCvA"
   },
   "source": [
    "**Observation** : Positive messages have the highest length"
   ]
  },
  {
   "cell_type": "markdown",
   "metadata": {
    "id": "E6eSA3nnw2SK"
   },
   "source": [
    "# Employee Score Calculation\n",
    "Computing a monthly sentiment score for each employee based on their messages."
   ]
  },
  {
   "cell_type": "code",
   "execution_count": null,
   "metadata": {
    "id": "xeKfyg7AvO76"
   },
   "outputs": [],
   "source": [
    "sentiment_score = {\n",
    "    'Positive': 1,\n",
    "    'Neutral': 0,\n",
    "    'Negative': -1\n",
    "}\n",
    "\n",
    "df['sentiment_score'] = df['sentiment'].map(sentiment_score)\n"
   ]
  },
  {
   "cell_type": "code",
   "execution_count": null,
   "metadata": {
    "id": "IEodktEbw7sC"
   },
   "outputs": [],
   "source": [
    "df['year_month'] = df['date'].dt.to_period('M')\n"
   ]
  },
  {
   "cell_type": "code",
   "execution_count": null,
   "metadata": {
    "id": "bNUsuvt0w-PK"
   },
   "outputs": [],
   "source": [
    "monthly_scores = df.groupby(['from', 'year_month'])['sentiment_score'].sum().reset_index()\n"
   ]
  },
  {
   "cell_type": "code",
   "execution_count": null,
   "metadata": {
    "id": "XimyPyvyxA4X"
   },
   "outputs": [],
   "source": [
    "monthly_scores.rename(columns={'year_month': 'month', 'sentiment_score': 'monthly_sentiment_score'}, inplace=True)\n",
    "monthly_scores['month'] = monthly_scores['month'].astype(str)  # convert Period to string if needed\n"
   ]
  },
  {
   "cell_type": "markdown",
   "metadata": {
    "id": "7dSgYYULoGM7"
   },
   "source": [
    "In this step, we mapped sentiment labels (Positive, Neutral, Negative) to numeric scores (1, 0, -1) to perform aggregation.\n",
    "\n",
    "We then extracted the year and month from the review date and calculated the monthly sentiment score for each sender. The final monthly_scores table shows how sentiment fluctuates over time for each individual."
   ]
  },
  {
   "cell_type": "code",
   "execution_count": null,
   "metadata": {
    "colab": {
     "base_uri": "https://localhost:8080/",
     "height": 423
    },
    "id": "iQUdKQahxeVh",
    "outputId": "4a7749a7-d5b8-4652-a425-17439a4e2e06"
   },
   "outputs": [],
   "source": [
    "monthly_scores"
   ]
  },
  {
   "cell_type": "code",
   "execution_count": null,
   "metadata": {
    "id": "ca-v0p9qxlxo"
   },
   "outputs": [],
   "source": [
    "# Convert Period to string if not already\n",
    "monthly_scores['month'] = monthly_scores['month'].astype(str)\n"
   ]
  },
  {
   "cell_type": "code",
   "execution_count": null,
   "metadata": {
    "id": "BQXWfsTTx9LH"
   },
   "outputs": [],
   "source": [
    "# Create two lists to store ranking results\n",
    "top_positive = []\n",
    "top_negative = []\n",
    "\n",
    "# Loop over each month\n",
    "for month in monthly_scores['month'].unique():\n",
    "    temp = monthly_scores[monthly_scores['month'] == month]\n",
    "\n",
    "    # Sort for top positive (descending by score, then alphabetically)\n",
    "    top_pos = temp.sort_values(by=['monthly_sentiment_score', 'from'], ascending=[False, True]).head(3)\n",
    "    top_pos['rank_type'] = 'Top Positive'\n",
    "    top_pos['rank'] = range(1, len(top_pos)+1)\n",
    "    top_positive.append(top_pos)\n",
    "\n",
    "    # Sort for top negative (ascending by score, then alphabetically)\n",
    "    top_neg = temp.sort_values(by=['monthly_sentiment_score', 'from'], ascending=[True, True]).head(3)\n",
    "    top_neg['rank_type'] = 'Top Negative'\n",
    "    top_neg['rank'] = range(1, len(top_neg)+1)\n",
    "    top_negative.append(top_neg)\n"
   ]
  },
  {
   "cell_type": "code",
   "execution_count": null,
   "metadata": {
    "id": "tD8ObydPyLIx"
   },
   "outputs": [],
   "source": [
    "# Combine both rankings\n",
    "ranking_df = pd.concat(top_positive + top_negative, ignore_index=True)\n",
    "\n",
    "# Optional: clean column names\n",
    "ranking_df = ranking_df[['month', 'from', 'monthly_sentiment_score', 'rank_type', 'rank']]\n",
    "ranking_df.sort_values(by=['month', 'rank_type', 'rank'], inplace=True)\n"
   ]
  },
  {
   "cell_type": "markdown",
   "metadata": {
    "id": "Jkt_fNzSogHd"
   },
   "source": [
    "Analysis By Month"
   ]
  },
  {
   "cell_type": "code",
   "execution_count": null,
   "metadata": {
    "colab": {
     "base_uri": "https://localhost:8080/",
     "height": 1000
    },
    "id": "wcpTaPlGyNkK",
    "outputId": "a6b15246-948b-4aee-bc94-7196177b0eda"
   },
   "outputs": [],
   "source": [
    "import matplotlib.pyplot as plt\n",
    "\n",
    "# Display as table\n",
    "for month in ranking_df['month'].unique():\n",
    "    display(ranking_df[ranking_df['month'] == month])\n"
   ]
  },
  {
   "cell_type": "markdown",
   "metadata": {
    "id": "vVqrgXJHpH8e"
   },
   "source": [
    "# Employee Ranking"
   ]
  },
  {
   "cell_type": "code",
   "execution_count": null,
   "metadata": {
    "colab": {
     "base_uri": "https://localhost:8080/"
    },
    "id": "6fTYhSmk7qnw",
    "outputId": "6ce0e476-d0ce-4cdd-ddb0-b6de5d6ec0f6"
   },
   "outputs": [],
   "source": [
    "# Group by employee and calculate average monthly sentiment score\n",
    "employee_sentiment = monthly_scores.groupby('employee_id')['monthly_sentiment_score'].mean()\n",
    "\n",
    "# Sort to get top 3 positive and bottom 3 negative\n",
    "top_positive = employee_sentiment.sort_values(ascending=False).head(3)\n",
    "top_negative = employee_sentiment.sort_values().head(3)\n",
    "\n",
    "print(\"Top 3 Most Positive Employees:\")\n",
    "print(top_positive)\n",
    "\n",
    "print(\"\\nTop 3 Most Negative Employees:\")\n",
    "print(top_negative)\n"
   ]
  },
  {
   "cell_type": "markdown",
   "metadata": {
    "id": "EoeV807NyqcB"
   },
   "source": [
    "# Flight Risk Indentification\n",
    "A Flight risk is any employee who has sent 4 or more negative mails in a given month."
   ]
  },
  {
   "cell_type": "code",
   "execution_count": null,
   "metadata": {
    "id": "MECewkyUySx6"
   },
   "outputs": [],
   "source": [
    "negative_df = df[df['sentiment'] == 'Negative'].copy()\n"
   ]
  },
  {
   "cell_type": "code",
   "execution_count": null,
   "metadata": {
    "id": "Dc0Z2FZyytxd"
   },
   "outputs": [],
   "source": [
    "negative_df['date'] = pd.to_datetime(negative_df['date'])\n"
   ]
  },
  {
   "cell_type": "code",
   "execution_count": null,
   "metadata": {
    "id": "IXlkZLQgywqL"
   },
   "outputs": [],
   "source": [
    "negative_df.sort_values(by=['from', 'date'], inplace=True)\n"
   ]
  },
  {
   "cell_type": "code",
   "execution_count": null,
   "metadata": {
    "id": "LvuC2MJ7yyRb"
   },
   "outputs": [],
   "source": [
    "from pandas.core.window import RollingGroupby\n",
    "\n",
    "# Set date as index for time-based rolling\n",
    "negative_df.set_index('date', inplace=True)\n",
    "\n",
    "# Create a rolling count of negative messages per employee\n",
    "negative_df['rolling_count'] = (\n",
    "    negative_df\n",
    "    .groupby('from')['sentiment']\n",
    "    .rolling('30D')\n",
    "    .count()\n",
    "    .reset_index(level=0, drop=True)\n",
    ")\n"
   ]
  },
  {
   "cell_type": "markdown",
   "metadata": {
    "id": "ee31JKvNpWmp"
   },
   "source": [
    "Counting negative messages per employee"
   ]
  },
  {
   "cell_type": "code",
   "execution_count": null,
   "metadata": {
    "id": "Twteb64Jy0ER"
   },
   "outputs": [],
   "source": [
    "flight_risk_df = negative_df[negative_df['rolling_count'] >= 4].reset_index()\n"
   ]
  },
  {
   "cell_type": "code",
   "execution_count": null,
   "metadata": {
    "colab": {
     "base_uri": "https://localhost:8080/"
    },
    "id": "yK5bmev7y173",
    "outputId": "2ab0c88c-e73f-4e55-c130-386d6526920b"
   },
   "outputs": [],
   "source": [
    "flight_risk_employees = flight_risk_df['from'].unique()\n",
    "print(\"Flight Risk Employees:\")\n",
    "print(flight_risk_employees)\n"
   ]
  },
  {
   "cell_type": "code",
   "execution_count": null,
   "metadata": {
    "colab": {
     "base_uri": "https://localhost:8080/",
     "height": 607
    },
    "id": "CUv8IQhBy3bR",
    "outputId": "7baa20ea-8f1a-4e64-82d0-dd3be2c4edec"
   },
   "outputs": [],
   "source": [
    "import seaborn as sns\n",
    "import matplotlib.pyplot as plt\n",
    "\n",
    "plt.figure(figsize=(12,6))\n",
    "sns.histplot(data=flight_risk_df, x='date', hue='from', multiple='stack', bins=30)\n",
    "plt.title(\"Flight Risk Message Frequency by Employee Over Time\")\n",
    "plt.xlabel(\"Date\")\n",
    "plt.ylabel(\"Negative Messages Count\")\n",
    "plt.xticks(rotation=45)\n",
    "plt.tight_layout()\n",
    "plt.show()\n"
   ]
  },
  {
   "cell_type": "markdown",
   "metadata": {
    "id": "2LqW0uCly_C3"
   },
   "source": [
    "A rolling 30-day window per employee was used to count negative messages. If an employee sent 4 or more negative messages within any 30-day span, they were flagged as flight risk."
   ]
  },
  {
   "cell_type": "markdown",
   "metadata": {
    "id": "an2vCC4Hzbns"
   },
   "source": [
    "# Linear Regression Model\n",
    "\n",
    "Developing a linear regression model to analyze sentiment trends and predict future sentiment scores.\n"
   ]
  },
  {
   "cell_type": "code",
   "execution_count": null,
   "metadata": {
    "colab": {
     "base_uri": "https://localhost:8080/"
    },
    "id": "PB4GIaIF3-Ix",
    "outputId": "6eb5449a-e573-4690-a4c3-1e3810e4de2d"
   },
   "outputs": [],
   "source": [
    "import pandas as pd\n",
    "from sklearn.model_selection import train_test_split\n",
    "from sklearn.linear_model import LinearRegression\n",
    "from sklearn.metrics import mean_squared_error, r2_score\n",
    "from sklearn.preprocessing import LabelEncoder\n",
    "\n",
    "model_df = monthly_scores.copy()\n",
    "\n",
    "# Encoding categorical 'employee_id'\n",
    "model_df['employee_id'] = LabelEncoder().fit_transform(model_df['employee_id'])\n",
    "\n",
    "# Define features and target\n",
    "features = ['year', 'month_num', 'prev_sentiment_score', 'score_change', 'employee_id']\n",
    "X = model_df[features]\n",
    "y = model_df['monthly_sentiment_score']\n",
    "\n",
    "# Split the data\n",
    "X_train, X_test, y_train, y_test = train_test_split(\n",
    "    X, y, test_size=0.2, random_state=42\n",
    ")\n",
    "\n",
    "# Train the linear regression model\n",
    "model = LinearRegression()\n",
    "model.fit(X_train, y_train)\n",
    "\n",
    "# Predict and evaluate\n",
    "y_pred = model.predict(X_test)\n",
    "mse = mean_squared_error(y_test, y_pred)\n",
    "r2 = r2_score(y_test, y_pred)\n",
    "\n",
    "print(f\"Mean Squared Error: {mse:.4f}\")\n",
    "print(f\"R² Score: {r2:.4f}\")\n",
    "\n",
    "# Feature importance (coefficients)\n",
    "coeff_df = pd.DataFrame({\n",
    "    'Feature': features,\n",
    "    'Coefficient': model.coef_\n",
    "})\n",
    "print(\"\\nFeature Importance (Coefficients):\")\n",
    "print(coeff_df)\n"
   ]
  },
  {
   "cell_type": "code",
   "execution_count": null,
   "metadata": {
    "colab": {
     "base_uri": "https://localhost:8080/",
     "height": 607
    },
    "id": "00ZrJWXK5XwQ",
    "outputId": "b4a4bae8-f54b-47ab-ec89-ccbec3bf02da"
   },
   "outputs": [],
   "source": [
    "import matplotlib.pyplot as plt\n",
    "import seaborn as sns\n",
    "\n",
    "# Create a DataFrame for comparison\n",
    "results_df = pd.DataFrame({\n",
    "    'Actual': y_test,\n",
    "    'Predicted': y_pred\n",
    "}).reset_index(drop=True)\n",
    "\n",
    "# Plot actual vs predicted\n",
    "plt.figure(figsize=(10, 6))\n",
    "sns.scatterplot(x='Actual', y='Predicted', data=results_df, color='dodgerblue')\n",
    "plt.plot([y.min(), y.max()], [y.min(), y.max()], 'r--')  # Diagonal line for perfect prediction\n",
    "plt.title('Actual vs Predicted Monthly Sentiment Scores')\n",
    "plt.xlabel('Actual Sentiment Score')\n",
    "plt.ylabel('Predicted Sentiment Score')\n",
    "plt.grid(True)\n",
    "plt.tight_layout()\n",
    "plt.show()\n"
   ]
  },
  {
   "cell_type": "markdown",
   "metadata": {
    "id": "RpLp3wP6qCvZ"
   },
   "source": [
    "**Observation**: Actual vs Predicted Monthly Sentiment Scores\n",
    "\n",
    "This scatter plot compares the actual vs predicted monthly sentiment scores using a linear regression model.\n",
    "\n",
    "The red dashed line represents the ideal case where the predicted score equals the actual score (perfect prediction).\n",
    "\n",
    " Insight: The points lie very close to the red line, indicating a high degree of accuracy in the model's predictions. This suggests that the regression model has learned the pattern in sentiment scores effectively, with minimal error between actual and predicted values."
   ]
  },
  {
   "cell_type": "markdown",
   "metadata": {
    "id": "3wJdrcWSrgOi"
   },
   "source": [
    "## 🧾 Final Summary and Key Insights\n",
    "\n",
    "This project aimed to analyze and predict employee sentiment from textual feedback, offering valuable insights into overall workplace morale. Here's a summary of the key steps, results, and potential next directions:\n",
    "\n",
    "### 🔍 Objective\n",
    "The goal was to map qualitative sentiment labels (Positive, Neutral, Negative) to quantitative sentiment scores, aggregate them monthly, and use a regression model to predict sentiment trends over time.\n",
    "\n",
    "---\n",
    "\n",
    "### 📊 Insights from Data\n",
    "\n",
    "- **Data Cleaning:** We ensured the dataset was free of missing values and inconsistencies, making it ready for time-series-based sentiment analysis.\n",
    "- **Sentiment Mapping:** Sentiment labels were successfully mapped to numerical values (`Positive → 1`, `Neutral → 0`, `Negative → -1`) to facilitate quantitative analysis.\n",
    "- **Monthly Trends:** Aggregated sentiment scores revealed fluctuating sentiment patterns over time, highlighting months with higher or lower employee satisfaction.\n",
    "\n",
    "---\n",
    "\n",
    "### 🤖 Model Performance\n",
    "\n",
    "- A **linear regression model** was trained to predict monthly sentiment scores based on historical data.\n",
    "- The model showed **a strong linear relationship** between actual and predicted values, as evidenced by the scatter plot closely aligning with the ideal regression line.\n",
    "- This indicates the model effectively captures sentiment trends and could be used for forecasting future sentiment.\n",
    "\n",
    "---\n",
    "\n",
    "### 💡 Interpretation of the Regression Plot\n",
    "\n",
    "- The **scatter plot** comparing actual and predicted scores shows minimal deviation from the ideal line (`y = x`), implying high model accuracy.\n",
    "- The line of best fit confirms that the model is well-calibrated and does not suffer from overfitting or underfitting in this scenario.\n",
    "- This is promising for tracking how employee sentiment might evolve month-over-month.\n",
    "\n",
    "---\n",
    "\n",
    "### 📌 Conclusion\n",
    "\n",
    "This analysis demonstrates that even simple linear models can provide meaningful insights into organizational sentiment when paired with proper data aggregation and transformation. The results support the feasibility of using predictive analytics to inform HR strategies, employee engagement programs, and workplace improvements.\n",
    "\n"
   ]
  }
 ],
 "metadata": {
  "colab": {
   "provenance": []
  },
  "kernelspec": {
   "display_name": "Python 3",
   "name": "python3"
  },
  "language_info": {
   "name": "python"
  }
 },
 "nbformat": 4,
 "nbformat_minor": 0
}
